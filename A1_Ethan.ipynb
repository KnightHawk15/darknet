{
  "nbformat": 4,
  "nbformat_minor": 0,
  "metadata": {
    "colab": {
      "name": "A1_Ethan.ipynb",
      "provenance": [],
      "collapsed_sections": [],
      "toc_visible": true,
      "include_colab_link": true
    },
    "kernelspec": {
      "name": "python3",
      "display_name": "Python 3"
    },
    "accelerator": "GPU"
  },
  "cells": [
    {
      "cell_type": "markdown",
      "metadata": {
        "id": "view-in-github",
        "colab_type": "text"
      },
      "source": [
        "<a href=\"https://colab.research.google.com/github/KnightHawk15/darknet/blob/master/A1_Ethan.ipynb\" target=\"_parent\"><img src=\"https://colab.research.google.com/assets/colab-badge.svg\" alt=\"Open In Colab\"/></a>"
      ]
    },
    {
      "cell_type": "markdown",
      "metadata": {
        "id": "-2Vlz9reronT",
        "colab_type": "text"
      },
      "source": [
        "Preliminary reading. Before starting with the code, I did some furthing reading on fine tuning the XGBoost hyperparameters and reading on using `GridSearchCV` and `RandomizedSearchCV`. It may be important to cross reference the location with the average house price.\n",
        "Imputer"
      ]
    },
    {
      "cell_type": "code",
      "metadata": {
        "id": "vTs11WubmRhV",
        "colab_type": "code",
        "colab": {}
      },
      "source": [
        "# download data (-q is the quiet mode)\n",
        "! wget -q https://www.dropbox.com/s/lhb1awpi769bfdr/test.csv?dl=1 -O test.csv\n",
        "! wget -q https://www.dropbox.com/s/gudb5eunj700s7j/train.csv?dl=1 -O train.csv"
      ],
      "execution_count": 0,
      "outputs": []
    },
    {
      "cell_type": "code",
      "metadata": {
        "id": "jrsga6qkouO1",
        "colab_type": "code",
        "outputId": "60244354-932d-489a-9f8a-e9c5b86fcfbd",
        "colab": {
          "base_uri": "https://localhost:8080/",
          "height": 52
        }
      },
      "source": [
        "import numpy as np \n",
        "import pandas as pd\n",
        "%matplotlib inline\n",
        "import matplotlib.pyplot as plt\n",
        "import seaborn as sns\n",
        "color = sns.color_palette()\n",
        "sns.set_style('darkgrid')\n",
        "import warnings\n",
        "def ignore_warn(*args, **kwargs):\n",
        "    pass\n",
        "warnings.warn = ignore_warn #ignore annoying warning (from sklearn and seaborn)\n",
        "\n",
        "pd.set_option('display.max_columns', None)\n",
        "pd.set_option('display.max_rows', None)\n",
        "\n",
        "from scipy import stats\n",
        "from scipy.stats import norm, skew #for some statistics\n",
        "\n",
        "pd.set_option('display.float_format', lambda x: '{:.3f}'.format(x)) #Limiting floats output to 3 decimal points\n",
        "\n",
        "\n",
        "# Train Import\n",
        "Xy_train = pd.read_csv('train.csv', engine='python')\n",
        "X_train = Xy_train.drop(columns=['price_rating'])\n",
        "y_train = Xy_train[['price_rating']]\n",
        "\n",
        "X_train['security_deposit'] = X_train['security_deposit'].str.replace('$', '')\n",
        "X_train['security_deposit'] = X_train['security_deposit'].str.replace(',', '')\n",
        "X_train['security_deposit'] = X_train['security_deposit'].astype(float)\n",
        "\n",
        "# Test Import\n",
        "X_test = pd.read_csv('test.csv', engine='python')\n",
        "X_test['security_deposit'] = X_test['security_deposit'].str.replace('$', '')\n",
        "X_test['security_deposit'] = X_test['security_deposit'].str.replace(',', '')\n",
        "X_test['security_deposit'] = X_test['security_deposit'].astype(float)\n",
        "testing_ids = X_test.Id\n",
        "\n",
        "print(X_train.shape)\n",
        "print(X_test.shape)\n"
      ],
      "execution_count": 2,
      "outputs": [
        {
          "output_type": "stream",
          "text": [
            "(7631, 101)\n",
            "(7632, 101)\n"
          ],
          "name": "stdout"
        }
      ]
    },
    {
      "cell_type": "markdown",
      "metadata": {
        "id": "73kR9Q2fS6WC",
        "colab_type": "text"
      },
      "source": [
        "#Dataset Analysis + Feature Engineering 🌝\n"
      ]
    },
    {
      "cell_type": "code",
      "metadata": {
        "id": "lig6hEsSTHvX",
        "colab_type": "code",
        "colab": {}
      },
      "source": [
        "# Shapes and Sizes:\n",
        "#print('Training size:{}'.format(X_train))\n",
        "#print('Testing size:{}'.format(X_test))\n",
        "\n",
        "# Looking at all the data and the percentage of missing values.\n",
        "master = pd.concat((X_train,X_test)).reset_index(drop=True) # Create a master dataset containing all the data, in the same order.\n",
        "master_dt = master.dtypes # Get datatypes\n",
        "master_missing = (master.isnull().sum() / len(master)) * 100 # Compute the percentage of missing data\n",
        "\n",
        "missing_data = pd.DataFrame({'Missing %' :master_missing,'Data Type' :master_dt}) # Build the df\n",
        "missing_data = missing_data.sort_values(by = 'Missing %', ascending= False) # Sort the table\n",
        "# missing_data.head(100) # Print\n",
        "\n"
      ],
      "execution_count": 0,
      "outputs": []
    },
    {
      "cell_type": "markdown",
      "metadata": {
        "id": "1_sdtvP1pz4d",
        "colab_type": "text"
      },
      "source": [
        "## Missing Value Handling\n",
        "*Note: The missing values are assumed*\n",
        "\n",
        "Of the categories chosen, each included feature's missing values are then handled.\n",
        "When exploring the dataset certain attributes were very lengthy in text, incomplete with many missing values, not straight foward missing values such as `host_response` or un-important attributes to the problem at hand. I understand \"un-importance\" is subjective, keeping this in mind I tried to only eliminate only the attributes that over complexified the problem at hand. Technically all of the attributes could have been used but it would involve a very complicated model with language, numeric and image processing capabilities. Furthermore, the complexity of the model does not always lead to a better result."
      ]
    },
    {
      "cell_type": "code",
      "metadata": {
        "id": "qU0ExKD0qN3M",
        "colab_type": "code",
        "colab": {}
      },
      "source": [
        "# Get Sizes of the set for resplitting\n",
        "n_train = X_train.shape[0]\n",
        "n_test = X_test.shape[0]\n",
        "\n",
        "# Remove Features missing all values\n",
        "master = master.drop(missing_data[missing_data['Missing %'] == 100].index, axis = 1)\n",
        "\n",
        "useless_features = ['Id','host_response_time','listing_url','last_scraped','name','summary','space','description','experiences_offered','neighborhood_overview','notes','transit','access','interaction','picture_url','host_id','host_url','host_name','host_since','host_location','host_about','host_response_rate','host_thumbnail_url','host_picture_url','host_neighbourhood','host_listings_count','host_verifications','host_has_profile_pic','host_identity_verified','street','neighbourhood','neighbourhood_cleansed','city','state','zipcode','market','smart_location','country_code','country','latitude','longitude','is_location_exact','bed_type','amenities','square_feet','guests_included','extra_people','minimum_nights','maximum_nights','minimum_minimum_nights','maximum_minimum_nights','minimum_maximum_nights','maximum_maximum_nights','minimum_nights_avg_ntm','maximum_nights_avg_ntm','calendar_updated','has_availability','availability_30','availability_60','availability_90','availability_365','calendar_last_scraped','number_of_reviews_ltm','first_review','last_review','review_scores_rating','review_scores_accuracy','review_scores_cleanliness','review_scores_checkin','review_scores_communication','review_scores_value','requires_license','jurisdiction_names','instant_bookable','is_business_travel_ready','cancellation_policy','require_guest_profile_picture','require_guest_phone_verification','calculated_host_listings_count','calculated_host_listings_count_entire_homes','calculated_host_listings_count_private_rooms','calculated_host_listings_count_shared_rooms','reviews_per_month']\n",
        "master = master.drop(useless_features, axis = 1)\n",
        "# master.head(3)"
      ],
      "execution_count": 0,
      "outputs": []
    },
    {
      "cell_type": "markdown",
      "metadata": {
        "id": "tSHkSh0g6Fye",
        "colab_type": "text"
      },
      "source": [
        "### `host_is_superhost`:\n",
        "boolean, assuming if na then not a superhost (f)"
      ]
    },
    {
      "cell_type": "code",
      "metadata": {
        "id": "ZgXV7Ogu7jpi",
        "colab_type": "code",
        "colab": {}
      },
      "source": [
        "master['host_is_superhost'] = master['host_is_superhost'].fillna('f')"
      ],
      "execution_count": 0,
      "outputs": []
    },
    {
      "cell_type": "markdown",
      "metadata": {
        "id": "GudTCYV-7uR-",
        "colab_type": "text"
      },
      "source": [
        "### `host_total_listings_count`:\n",
        "numerical, same as `host_listings_count`, if na then assume 0"
      ]
    },
    {
      "cell_type": "code",
      "metadata": {
        "id": "GqtotNy28sFG",
        "colab_type": "code",
        "colab": {}
      },
      "source": [
        "master['host_total_listings_count'] = master['host_total_listings_count'].fillna(0)"
      ],
      "execution_count": 0,
      "outputs": []
    },
    {
      "cell_type": "markdown",
      "metadata": {
        "id": "baWPsSsa9KSh",
        "colab_type": "text"
      },
      "source": [
        "### `accommodates, bathrooms, bedrooms, beds,review_scores_location`:\n",
        "numerical, all missing values are assumed to be the mean value of each attribute."
      ]
    },
    {
      "cell_type": "code",
      "metadata": {
        "id": "V2R-RYTyHPXO",
        "colab_type": "code",
        "colab": {}
      },
      "source": [
        "attribs = ['accommodates','bathrooms','bedrooms','beds','review_scores_location']\n",
        "\n",
        "for a in attribs:\n",
        "  master[a] = master[a].fillna(master[a].mean())"
      ],
      "execution_count": 0,
      "outputs": []
    },
    {
      "cell_type": "markdown",
      "metadata": {
        "id": "0YGC8waPHNdJ",
        "colab_type": "text"
      },
      "source": [
        "###`security_deposit`:\n",
        "Assumed that there is no deposit ie. $0.00"
      ]
    },
    {
      "cell_type": "code",
      "metadata": {
        "id": "P8eY4_B7IzMb",
        "colab_type": "code",
        "colab": {}
      },
      "source": [
        "master['security_deposit'] = master['security_deposit'].fillna(0)"
      ],
      "execution_count": 0,
      "outputs": []
    },
    {
      "cell_type": "markdown",
      "metadata": {
        "id": "f3Wk2nVUI6qF",
        "colab_type": "text"
      },
      "source": [
        "###`number_of_reviews`:\n",
        "Assumed to be no reviews (0) if na"
      ]
    },
    {
      "cell_type": "code",
      "metadata": {
        "id": "4Gx6QGk2JL67",
        "colab_type": "code",
        "colab": {}
      },
      "source": [
        "master['number_of_reviews'] = master['number_of_reviews'].fillna(0)"
      ],
      "execution_count": 0,
      "outputs": []
    },
    {
      "cell_type": "markdown",
      "metadata": {
        "id": "UTODS0eJykqj",
        "colab_type": "text"
      },
      "source": [
        "Check for missing values:"
      ]
    },
    {
      "cell_type": "code",
      "metadata": {
        "id": "UBTPQMsIym1L",
        "colab_type": "code",
        "outputId": "e02accc0-4513-4912-fa2e-27cade8d2e2c",
        "colab": {
          "base_uri": "https://localhost:8080/",
          "height": 1000
        }
      },
      "source": [
        "master_missing = (master.isnull().sum() / len(master)) * 100 # Compute the percentage of missing data\n",
        "\n",
        "missing_data = pd.DataFrame({'Missing %' :master_missing}) # Build the df\n",
        "missing_data = missing_data.sort_values(by = 'Missing %', ascending= False) # Sort the table\n",
        "missing_data.head(100) # Print \n",
        "\n",
        "master.head(5)"
      ],
      "execution_count": 10,
      "outputs": [
        {
          "output_type": "execute_result",
          "data": {
            "text/html": [
              "<div>\n",
              "<style scoped>\n",
              "    .dataframe tbody tr th:only-of-type {\n",
              "        vertical-align: middle;\n",
              "    }\n",
              "\n",
              "    .dataframe tbody tr th {\n",
              "        vertical-align: top;\n",
              "    }\n",
              "\n",
              "    .dataframe thead th {\n",
              "        text-align: right;\n",
              "    }\n",
              "</style>\n",
              "<table border=\"1\" class=\"dataframe\">\n",
              "  <thead>\n",
              "    <tr style=\"text-align: right;\">\n",
              "      <th></th>\n",
              "      <th>house_rules</th>\n",
              "      <th>host_is_superhost</th>\n",
              "      <th>host_total_listings_count</th>\n",
              "      <th>property_type</th>\n",
              "      <th>room_type</th>\n",
              "      <th>accommodates</th>\n",
              "      <th>bathrooms</th>\n",
              "      <th>bedrooms</th>\n",
              "      <th>beds</th>\n",
              "      <th>security_deposit</th>\n",
              "      <th>number_of_reviews</th>\n",
              "      <th>review_scores_location</th>\n",
              "    </tr>\n",
              "  </thead>\n",
              "  <tbody>\n",
              "    <tr>\n",
              "      <th>0</th>\n",
              "      <td>- no loud music after 12am - smoking allowed o...</td>\n",
              "      <td>f</td>\n",
              "      <td>13.000</td>\n",
              "      <td>Apartment</td>\n",
              "      <td>Entire home/apt</td>\n",
              "      <td>8</td>\n",
              "      <td>1.000</td>\n",
              "      <td>2.000</td>\n",
              "      <td>4.000</td>\n",
              "      <td>0.000</td>\n",
              "      <td>51</td>\n",
              "      <td>10.000</td>\n",
              "    </tr>\n",
              "    <tr>\n",
              "      <th>1</th>\n",
              "      <td>- No Party allowed - No smoking or pets inside...</td>\n",
              "      <td>f</td>\n",
              "      <td>2.000</td>\n",
              "      <td>Apartment</td>\n",
              "      <td>Entire home/apt</td>\n",
              "      <td>3</td>\n",
              "      <td>1.000</td>\n",
              "      <td>1.000</td>\n",
              "      <td>2.000</td>\n",
              "      <td>500.000</td>\n",
              "      <td>3</td>\n",
              "      <td>10.000</td>\n",
              "    </tr>\n",
              "    <tr>\n",
              "      <th>2</th>\n",
              "      <td>Les voyageurs doivent respecter les lieux et l...</td>\n",
              "      <td>f</td>\n",
              "      <td>1.000</td>\n",
              "      <td>Apartment</td>\n",
              "      <td>Entire home/apt</td>\n",
              "      <td>2</td>\n",
              "      <td>1.000</td>\n",
              "      <td>2.000</td>\n",
              "      <td>1.000</td>\n",
              "      <td>0.000</td>\n",
              "      <td>6</td>\n",
              "      <td>8.000</td>\n",
              "    </tr>\n",
              "    <tr>\n",
              "      <th>3</th>\n",
              "      <td>- Respect the rules of the condo - For securit...</td>\n",
              "      <td>t</td>\n",
              "      <td>1.000</td>\n",
              "      <td>Apartment</td>\n",
              "      <td>Entire home/apt</td>\n",
              "      <td>6</td>\n",
              "      <td>1.000</td>\n",
              "      <td>2.000</td>\n",
              "      <td>2.000</td>\n",
              "      <td>0.000</td>\n",
              "      <td>91</td>\n",
              "      <td>10.000</td>\n",
              "    </tr>\n",
              "    <tr>\n",
              "      <th>4</th>\n",
              "      <td>Merci de ne pas faire de bruit après 22h00</td>\n",
              "      <td>f</td>\n",
              "      <td>3.000</td>\n",
              "      <td>Apartment</td>\n",
              "      <td>Entire home/apt</td>\n",
              "      <td>9</td>\n",
              "      <td>1.000</td>\n",
              "      <td>2.000</td>\n",
              "      <td>3.000</td>\n",
              "      <td>300.000</td>\n",
              "      <td>12</td>\n",
              "      <td>10.000</td>\n",
              "    </tr>\n",
              "    <tr>\n",
              "      <th>5</th>\n",
              "      <td>NaN</td>\n",
              "      <td>t</td>\n",
              "      <td>1.000</td>\n",
              "      <td>Apartment</td>\n",
              "      <td>Entire home/apt</td>\n",
              "      <td>2</td>\n",
              "      <td>1.000</td>\n",
              "      <td>0.000</td>\n",
              "      <td>2.000</td>\n",
              "      <td>200.000</td>\n",
              "      <td>65</td>\n",
              "      <td>10.000</td>\n",
              "    </tr>\n",
              "    <tr>\n",
              "      <th>6</th>\n",
              "      <td>- Pas de fêtes ou d'invités. Il me fera plaisi...</td>\n",
              "      <td>f</td>\n",
              "      <td>8.000</td>\n",
              "      <td>Apartment</td>\n",
              "      <td>Private room</td>\n",
              "      <td>1</td>\n",
              "      <td>1.000</td>\n",
              "      <td>1.000</td>\n",
              "      <td>1.000</td>\n",
              "      <td>0.000</td>\n",
              "      <td>7</td>\n",
              "      <td>10.000</td>\n",
              "    </tr>\n",
              "    <tr>\n",
              "      <th>7</th>\n",
              "      <td>JAMAIS DE BRUIT; PAS DE CONSOMMATION DE DROGUE...</td>\n",
              "      <td>t</td>\n",
              "      <td>2.000</td>\n",
              "      <td>House</td>\n",
              "      <td>Private room</td>\n",
              "      <td>1</td>\n",
              "      <td>1.500</td>\n",
              "      <td>1.000</td>\n",
              "      <td>1.000</td>\n",
              "      <td>0.000</td>\n",
              "      <td>5</td>\n",
              "      <td>10.000</td>\n",
              "    </tr>\n",
              "    <tr>\n",
              "      <th>8</th>\n",
              "      <td>Les réservations doivent être soumises 48 heur...</td>\n",
              "      <td>t</td>\n",
              "      <td>1.000</td>\n",
              "      <td>Townhouse</td>\n",
              "      <td>Private room</td>\n",
              "      <td>1</td>\n",
              "      <td>1.000</td>\n",
              "      <td>1.000</td>\n",
              "      <td>1.000</td>\n",
              "      <td>400.000</td>\n",
              "      <td>46</td>\n",
              "      <td>10.000</td>\n",
              "    </tr>\n",
              "    <tr>\n",
              "      <th>9</th>\n",
              "      <td>NaN</td>\n",
              "      <td>f</td>\n",
              "      <td>1.000</td>\n",
              "      <td>House</td>\n",
              "      <td>Entire home/apt</td>\n",
              "      <td>5</td>\n",
              "      <td>1.000</td>\n",
              "      <td>2.000</td>\n",
              "      <td>3.000</td>\n",
              "      <td>0.000</td>\n",
              "      <td>17</td>\n",
              "      <td>9.000</td>\n",
              "    </tr>\n",
              "    <tr>\n",
              "      <th>10</th>\n",
              "      <td>- Respect de la quiétude de l'immeuble primord...</td>\n",
              "      <td>f</td>\n",
              "      <td>1.000</td>\n",
              "      <td>Apartment</td>\n",
              "      <td>Entire home/apt</td>\n",
              "      <td>2</td>\n",
              "      <td>1.000</td>\n",
              "      <td>1.000</td>\n",
              "      <td>1.000</td>\n",
              "      <td>200.000</td>\n",
              "      <td>2</td>\n",
              "      <td>9.000</td>\n",
              "    </tr>\n",
              "    <tr>\n",
              "      <th>11</th>\n",
              "      <td>NaN</td>\n",
              "      <td>f</td>\n",
              "      <td>1.000</td>\n",
              "      <td>Apartment</td>\n",
              "      <td>Private room</td>\n",
              "      <td>1</td>\n",
              "      <td>1.000</td>\n",
              "      <td>1.000</td>\n",
              "      <td>1.000</td>\n",
              "      <td>0.000</td>\n",
              "      <td>1</td>\n",
              "      <td>10.000</td>\n",
              "    </tr>\n",
              "    <tr>\n",
              "      <th>12</th>\n",
              "      <td>- No check in or check outs on Saturday. Frida...</td>\n",
              "      <td>f</td>\n",
              "      <td>1.000</td>\n",
              "      <td>Apartment</td>\n",
              "      <td>Entire home/apt</td>\n",
              "      <td>4</td>\n",
              "      <td>1.000</td>\n",
              "      <td>0.000</td>\n",
              "      <td>1.000</td>\n",
              "      <td>400.000</td>\n",
              "      <td>28</td>\n",
              "      <td>9.000</td>\n",
              "    </tr>\n",
              "    <tr>\n",
              "      <th>13</th>\n",
              "      <td>Rester respectueux en ce qui concerne au bruit...</td>\n",
              "      <td>t</td>\n",
              "      <td>1.000</td>\n",
              "      <td>Apartment</td>\n",
              "      <td>Entire home/apt</td>\n",
              "      <td>2</td>\n",
              "      <td>1.000</td>\n",
              "      <td>1.000</td>\n",
              "      <td>1.000</td>\n",
              "      <td>250.000</td>\n",
              "      <td>8</td>\n",
              "      <td>10.000</td>\n",
              "    </tr>\n",
              "    <tr>\n",
              "      <th>14</th>\n",
              "      <td>Maison non fumeuse Pas de party Toujours quitt...</td>\n",
              "      <td>t</td>\n",
              "      <td>0.000</td>\n",
              "      <td>Townhouse</td>\n",
              "      <td>Entire home/apt</td>\n",
              "      <td>2</td>\n",
              "      <td>1.000</td>\n",
              "      <td>1.000</td>\n",
              "      <td>1.000</td>\n",
              "      <td>400.000</td>\n",
              "      <td>143</td>\n",
              "      <td>10.000</td>\n",
              "    </tr>\n",
              "  </tbody>\n",
              "</table>\n",
              "</div>"
            ],
            "text/plain": [
              "                                          house_rules host_is_superhost  \\\n",
              "0   - no loud music after 12am - smoking allowed o...                 f   \n",
              "1   - No Party allowed - No smoking or pets inside...                 f   \n",
              "2   Les voyageurs doivent respecter les lieux et l...                 f   \n",
              "3   - Respect the rules of the condo - For securit...                 t   \n",
              "4          Merci de ne pas faire de bruit après 22h00                 f   \n",
              "5                                                 NaN                 t   \n",
              "6   - Pas de fêtes ou d'invités. Il me fera plaisi...                 f   \n",
              "7   JAMAIS DE BRUIT; PAS DE CONSOMMATION DE DROGUE...                 t   \n",
              "8   Les réservations doivent être soumises 48 heur...                 t   \n",
              "9                                                 NaN                 f   \n",
              "10  - Respect de la quiétude de l'immeuble primord...                 f   \n",
              "11                                                NaN                 f   \n",
              "12  - No check in or check outs on Saturday. Frida...                 f   \n",
              "13  Rester respectueux en ce qui concerne au bruit...                 t   \n",
              "14  Maison non fumeuse Pas de party Toujours quitt...                 t   \n",
              "\n",
              "    host_total_listings_count property_type        room_type  accommodates  \\\n",
              "0                      13.000     Apartment  Entire home/apt             8   \n",
              "1                       2.000     Apartment  Entire home/apt             3   \n",
              "2                       1.000     Apartment  Entire home/apt             2   \n",
              "3                       1.000     Apartment  Entire home/apt             6   \n",
              "4                       3.000     Apartment  Entire home/apt             9   \n",
              "5                       1.000     Apartment  Entire home/apt             2   \n",
              "6                       8.000     Apartment     Private room             1   \n",
              "7                       2.000         House     Private room             1   \n",
              "8                       1.000     Townhouse     Private room             1   \n",
              "9                       1.000         House  Entire home/apt             5   \n",
              "10                      1.000     Apartment  Entire home/apt             2   \n",
              "11                      1.000     Apartment     Private room             1   \n",
              "12                      1.000     Apartment  Entire home/apt             4   \n",
              "13                      1.000     Apartment  Entire home/apt             2   \n",
              "14                      0.000     Townhouse  Entire home/apt             2   \n",
              "\n",
              "    bathrooms  bedrooms  beds  security_deposit  number_of_reviews  \\\n",
              "0       1.000     2.000 4.000             0.000                 51   \n",
              "1       1.000     1.000 2.000           500.000                  3   \n",
              "2       1.000     2.000 1.000             0.000                  6   \n",
              "3       1.000     2.000 2.000             0.000                 91   \n",
              "4       1.000     2.000 3.000           300.000                 12   \n",
              "5       1.000     0.000 2.000           200.000                 65   \n",
              "6       1.000     1.000 1.000             0.000                  7   \n",
              "7       1.500     1.000 1.000             0.000                  5   \n",
              "8       1.000     1.000 1.000           400.000                 46   \n",
              "9       1.000     2.000 3.000             0.000                 17   \n",
              "10      1.000     1.000 1.000           200.000                  2   \n",
              "11      1.000     1.000 1.000             0.000                  1   \n",
              "12      1.000     0.000 1.000           400.000                 28   \n",
              "13      1.000     1.000 1.000           250.000                  8   \n",
              "14      1.000     1.000 1.000           400.000                143   \n",
              "\n",
              "    review_scores_location  \n",
              "0                   10.000  \n",
              "1                   10.000  \n",
              "2                    8.000  \n",
              "3                   10.000  \n",
              "4                   10.000  \n",
              "5                   10.000  \n",
              "6                   10.000  \n",
              "7                   10.000  \n",
              "8                   10.000  \n",
              "9                    9.000  \n",
              "10                   9.000  \n",
              "11                  10.000  \n",
              "12                   9.000  \n",
              "13                  10.000  \n",
              "14                  10.000  "
            ]
          },
          "metadata": {
            "tags": []
          },
          "execution_count": 10
        }
      ]
    },
    {
      "cell_type": "markdown",
      "metadata": {
        "id": "gJ_I1qQ84Cwx",
        "colab_type": "text"
      },
      "source": [
        "### Skewness"
      ]
    },
    {
      "cell_type": "code",
      "metadata": {
        "id": "1KKtFd8o4Fqc",
        "colab_type": "code",
        "outputId": "84350b2e-7583-404e-92ac-d951f41c45b3",
        "colab": {
          "base_uri": "https://localhost:8080/",
          "height": 300
        }
      },
      "source": [
        "from scipy.special import boxcox1p\n",
        "\n",
        "# Skewness\n",
        "num_fts = master.dtypes[master.dtypes != \"object\"].index\n",
        "# print(master[num_fts].head())\n",
        "# get skewness\n",
        "skew_fts = master[num_fts].apply(lambda x: skew(x.dropna())).sort_values (ascending = False)\n",
        "\n",
        "skews = pd.DataFrame({'Skew' : skew_fts})\n",
        "skews.head(100)"
      ],
      "execution_count": 11,
      "outputs": [
        {
          "output_type": "execute_result",
          "data": {
            "text/html": [
              "<div>\n",
              "<style scoped>\n",
              "    .dataframe tbody tr th:only-of-type {\n",
              "        vertical-align: middle;\n",
              "    }\n",
              "\n",
              "    .dataframe tbody tr th {\n",
              "        vertical-align: top;\n",
              "    }\n",
              "\n",
              "    .dataframe thead th {\n",
              "        text-align: right;\n",
              "    }\n",
              "</style>\n",
              "<table border=\"1\" class=\"dataframe\">\n",
              "  <thead>\n",
              "    <tr style=\"text-align: right;\">\n",
              "      <th></th>\n",
              "      <th>Skew</th>\n",
              "    </tr>\n",
              "  </thead>\n",
              "  <tbody>\n",
              "    <tr>\n",
              "      <th>bathrooms</th>\n",
              "      <td>14.836</td>\n",
              "    </tr>\n",
              "    <tr>\n",
              "      <th>host_total_listings_count</th>\n",
              "      <td>9.407</td>\n",
              "    </tr>\n",
              "    <tr>\n",
              "      <th>security_deposit</th>\n",
              "      <td>7.652</td>\n",
              "    </tr>\n",
              "    <tr>\n",
              "      <th>number_of_reviews</th>\n",
              "      <td>3.796</td>\n",
              "    </tr>\n",
              "    <tr>\n",
              "      <th>beds</th>\n",
              "      <td>2.724</td>\n",
              "    </tr>\n",
              "    <tr>\n",
              "      <th>bedrooms</th>\n",
              "      <td>2.534</td>\n",
              "    </tr>\n",
              "    <tr>\n",
              "      <th>accommodates</th>\n",
              "      <td>1.878</td>\n",
              "    </tr>\n",
              "    <tr>\n",
              "      <th>review_scores_location</th>\n",
              "      <td>-3.525</td>\n",
              "    </tr>\n",
              "  </tbody>\n",
              "</table>\n",
              "</div>"
            ],
            "text/plain": [
              "                            Skew\n",
              "bathrooms                 14.836\n",
              "host_total_listings_count  9.407\n",
              "security_deposit           7.652\n",
              "number_of_reviews          3.796\n",
              "beds                       2.724\n",
              "bedrooms                   2.534\n",
              "accommodates               1.878\n",
              "review_scores_location    -3.525"
            ]
          },
          "metadata": {
            "tags": []
          },
          "execution_count": 11
        }
      ]
    },
    {
      "cell_type": "markdown",
      "metadata": {
        "id": "wpGuIsHi4XVX",
        "colab_type": "text"
      },
      "source": [
        "Woah, looks like we got a major skew problem, time for some box-cox correction 🦕"
      ]
    },
    {
      "cell_type": "code",
      "metadata": {
        "id": "5L-5Tf0l3tb-",
        "colab_type": "code",
        "colab": {}
      },
      "source": [
        "skew_fts = skews.index\n",
        "lamdba = 0.15\n",
        "\n",
        "for f in skew_fts:\n",
        "  master[f] = boxcox1p(master[f], lamdba)\n",
        "\n",
        "# master.head(20)"
      ],
      "execution_count": 0,
      "outputs": []
    },
    {
      "cell_type": "markdown",
      "metadata": {
        "id": "F-Y0B1MU8x5J",
        "colab_type": "text"
      },
      "source": [
        "### Discretization:\n",
        "The encoding of the three categorical attributes: `host_is_superhost`,`property_type`, and `room_type`"
      ]
    },
    {
      "cell_type": "markdown",
      "metadata": {
        "id": "Jd92vzwY2t5k",
        "colab_type": "text"
      },
      "source": [
        "### `house_rules`:\n",
        "Interesting to transform into a boolean, building off stricter vs. looser hosts"
      ]
    },
    {
      "cell_type": "code",
      "metadata": {
        "id": "eNaVs8Dd3CFs",
        "colab_type": "code",
        "colab": {}
      },
      "source": [
        "master['house_rules'] = master['house_rules'].mask(master['house_rules'].notna(), 1)\n",
        "master['house_rules'] = master['house_rules'].fillna(0)"
      ],
      "execution_count": 0,
      "outputs": []
    },
    {
      "cell_type": "code",
      "metadata": {
        "id": "dK7YVDFE8xi1",
        "colab_type": "code",
        "outputId": "8f91541d-2547-406b-d945-c4f2641a0937",
        "colab": {
          "base_uri": "https://localhost:8080/",
          "height": 163
        }
      },
      "source": [
        "from sklearn.preprocessing import LabelEncoder\n",
        "attribs = ['host_is_superhost','property_type', 'room_type']\n",
        "\n",
        "for a in attribs:\n",
        "  le = LabelEncoder()\n",
        "  le.fit(list(master[a].values))\n",
        "  master[a] = le.transform(list(master[a].values))\n",
        "\n",
        "master.head(3)"
      ],
      "execution_count": 14,
      "outputs": [
        {
          "output_type": "execute_result",
          "data": {
            "text/html": [
              "<div>\n",
              "<style scoped>\n",
              "    .dataframe tbody tr th:only-of-type {\n",
              "        vertical-align: middle;\n",
              "    }\n",
              "\n",
              "    .dataframe tbody tr th {\n",
              "        vertical-align: top;\n",
              "    }\n",
              "\n",
              "    .dataframe thead th {\n",
              "        text-align: right;\n",
              "    }\n",
              "</style>\n",
              "<table border=\"1\" class=\"dataframe\">\n",
              "  <thead>\n",
              "    <tr style=\"text-align: right;\">\n",
              "      <th></th>\n",
              "      <th>house_rules</th>\n",
              "      <th>host_is_superhost</th>\n",
              "      <th>host_total_listings_count</th>\n",
              "      <th>property_type</th>\n",
              "      <th>room_type</th>\n",
              "      <th>accommodates</th>\n",
              "      <th>bathrooms</th>\n",
              "      <th>bedrooms</th>\n",
              "      <th>beds</th>\n",
              "      <th>security_deposit</th>\n",
              "      <th>number_of_reviews</th>\n",
              "      <th>review_scores_location</th>\n",
              "    </tr>\n",
              "  </thead>\n",
              "  <tbody>\n",
              "    <tr>\n",
              "      <th>0</th>\n",
              "      <td>1</td>\n",
              "      <td>0</td>\n",
              "      <td>3.238</td>\n",
              "      <td>1</td>\n",
              "      <td>0</td>\n",
              "      <td>2.603</td>\n",
              "      <td>0.730</td>\n",
              "      <td>1.194</td>\n",
              "      <td>1.820</td>\n",
              "      <td>0.000</td>\n",
              "      <td>5.392</td>\n",
              "      <td>2.886</td>\n",
              "    </tr>\n",
              "    <tr>\n",
              "      <th>1</th>\n",
              "      <td>1</td>\n",
              "      <td>0</td>\n",
              "      <td>1.194</td>\n",
              "      <td>1</td>\n",
              "      <td>0</td>\n",
              "      <td>1.541</td>\n",
              "      <td>0.730</td>\n",
              "      <td>0.730</td>\n",
              "      <td>1.194</td>\n",
              "      <td>10.272</td>\n",
              "      <td>1.541</td>\n",
              "      <td>2.886</td>\n",
              "    </tr>\n",
              "    <tr>\n",
              "      <th>2</th>\n",
              "      <td>1</td>\n",
              "      <td>0</td>\n",
              "      <td>0.730</td>\n",
              "      <td>1</td>\n",
              "      <td>0</td>\n",
              "      <td>1.194</td>\n",
              "      <td>0.730</td>\n",
              "      <td>1.194</td>\n",
              "      <td>0.730</td>\n",
              "      <td>0.000</td>\n",
              "      <td>2.260</td>\n",
              "      <td>2.603</td>\n",
              "    </tr>\n",
              "  </tbody>\n",
              "</table>\n",
              "</div>"
            ],
            "text/plain": [
              "   house_rules  host_is_superhost  host_total_listings_count  property_type  \\\n",
              "0            1                  0                      3.238              1   \n",
              "1            1                  0                      1.194              1   \n",
              "2            1                  0                      0.730              1   \n",
              "\n",
              "   room_type  accommodates  bathrooms  bedrooms  beds  security_deposit  \\\n",
              "0          0         2.603      0.730     1.194 1.820             0.000   \n",
              "1          0         1.541      0.730     0.730 1.194            10.272   \n",
              "2          0         1.194      0.730     1.194 0.730             0.000   \n",
              "\n",
              "   number_of_reviews  review_scores_location  \n",
              "0              5.392                   2.886  \n",
              "1              1.541                   2.886  \n",
              "2              2.260                   2.603  "
            ]
          },
          "metadata": {
            "tags": []
          },
          "execution_count": 14
        }
      ]
    },
    {
      "cell_type": "markdown",
      "metadata": {
        "id": "KJ3JhDDc-PqT",
        "colab_type": "text"
      },
      "source": [
        "Rebuild the testing and training sets."
      ]
    },
    {
      "cell_type": "code",
      "metadata": {
        "id": "lFZIsYso9xxS",
        "colab_type": "code",
        "outputId": "acb52d0f-79fa-4a63-ca51-2e1f1f7ecf7c",
        "colab": {
          "base_uri": "https://localhost:8080/",
          "height": 52
        }
      },
      "source": [
        "X_train = master[:n_train]\n",
        "X_test = master[n_train:]\n",
        "\n",
        "print(X_train.shape)\n",
        "print(X_test.shape)\n",
        "\n",
        "Xy_train = X_train.join(y_train)\n",
        "# Xy_train.head(3)"
      ],
      "execution_count": 15,
      "outputs": [
        {
          "output_type": "stream",
          "text": [
            "(7631, 12)\n",
            "(7632, 12)\n"
          ],
          "name": "stdout"
        }
      ]
    },
    {
      "cell_type": "markdown",
      "metadata": {
        "id": "GwARz2Kwznr8",
        "colab_type": "text"
      },
      "source": [
        "## Correlation Exploration"
      ]
    },
    {
      "cell_type": "code",
      "metadata": {
        "id": "64_wtLfXzkUK",
        "colab_type": "code",
        "outputId": "c3d62b9c-f3b1-473e-8832-233389c163d5",
        "colab": {
          "base_uri": "https://localhost:8080/",
          "height": 450
        }
      },
      "source": [
        "# Correlation Exploration **Including price_rating\n",
        "corrmat = Xy_train.corr()\n",
        "plt.subplots(figsize=(10,5))\n",
        "sns.heatmap(corrmat, vmax = 0.9, square = True)"
      ],
      "execution_count": 16,
      "outputs": [
        {
          "output_type": "execute_result",
          "data": {
            "text/plain": [
              "<matplotlib.axes._subplots.AxesSubplot at 0x7fbd24728cc0>"
            ]
          },
          "metadata": {
            "tags": []
          },
          "execution_count": 16
        },
        {
          "output_type": "display_data",
          "data": {
            "image/png": "[encoded data removed]",
            "text/plain": [
              "<Figure size 720x360 with 2 Axes>"
            ]
          },
          "metadata": {
            "tags": []
          }
        }
      ]
    },
    {
      "cell_type": "markdown",
      "metadata": {
        "id": "tlwVHnmGtr83",
        "colab_type": "text"
      },
      "source": [
        "Looking at the correlation map we can see some obvious correlation between `price_rating` and `accommodates`, `bedrooms`, `beds`, `square_feet` and `guests_included`. Showing their necesesity in the model. But more generally we see the overall high correlation between all of the chosen attributes indicating a strong based for a model. "
      ]
    },
    {
      "cell_type": "markdown",
      "metadata": {
        "id": "ZfmHArXHX1Il",
        "colab_type": "text"
      },
      "source": [
        "#Model 1: XGBoost\n",
        "\n",
        "Notes on Hyper-Parameters:\n",
        "\n",
        "https://xgboost.readthedocs.io/en/latest/parameter.html\n",
        "\n",
        "*   **`learning_rate`:** Shrinkage, lower LR the more robust. \n",
        "*   **`gamma`:** Legrangian multiplier, complexity control, penalty for splitting\n",
        "*   **`max_depth`:** deeper tree -> overfitting\n",
        "*   **`colsample_bytree`:** fraction of features used by each tree, higher -> overfitting + long computation\n",
        "*   **`subsample`:** similar to `colsample_bytree` but takes a subset of the data objects, only use for extremely large datasets.\n",
        "*   **`reg_alpha`:** ***L1*** regularization, pushing sparsity (weights -> 0). Good for logistic regr.\n",
        "*   **`reg_lambda`:** ***L2*** regularization, pushing smaller weights but does not zero, good for tree-models.\n",
        "*   **`n_estimators`:** number of trees, always better to have more\n",
        "*   **`booster`:** choose between:\n",
        "   *   `gbtree`: regression tree, weaker learner\n",
        "   *   `gdlinear`: generalized linear regression with L1 and L2 shrinkage. \n",
        "   *   `dart`: random dropout, discourages overfitting\n",
        "*   **`tree_method`:** algorithm used to build trees\n",
        "*   **`grow_policy`:** controling the addition of new nodes. *only for `tree_method` `hist`*\n",
        "*   **`predictor`:** predictor type, CPU or GPU\n",
        "\n"
      ]
    },
    {
      "cell_type": "code",
      "metadata": {
        "id": "3vFDJ3lNmE6P",
        "colab_type": "code",
        "outputId": "0f602c8b-3451-48df-90c8-ad3ceaca1474",
        "colab": {
          "base_uri": "https://localhost:8080/",
          "height": 121
        }
      },
      "source": [
        "# model training and tuning\n",
        "from sklearn.compose import ColumnTransformer\n",
        "from sklearn.datasets import fetch_openml\n",
        "from sklearn.pipeline import Pipeline\n",
        "from sklearn.impute import SimpleImputer\n",
        "from sklearn.preprocessing import StandardScaler, OneHotEncoder, power_transform\n",
        "from sklearn.linear_model import LogisticRegression\n",
        "from sklearn.model_selection import train_test_split, GridSearchCV, RandomizedSearchCV\n",
        "from xgboost.sklearn import XGBClassifier\n",
        "\n",
        "np.random.seed(5)\n",
        "\n",
        "# papa regressor\n",
        "regr = Pipeline(steps=[('regressor',XGBClassifier(\n",
        "                          objective = 'multi:softmax',\n",
        "                          seed = 1))])\n",
        "\n",
        "# Define the grid of hyperparameters to base a search\n",
        "n_estimators = [50, 100, 200]\n",
        "max_depth = [10, 20, 30]\n",
        "# booster = ['gbtree', 'gblinear']\n",
        "gammas = [0.01, 0.8, 2.1]\n",
        "# learning_rates = [0.1, 0.01, 0.001]\n",
        "base_score = [0.25, 0.5, 0.75, 1]\n",
        "learning_rates = [0.15, 0.20]\n",
        "min_child_weight = [1, 2, 3, 4]\n",
        "\n",
        "param_grid = {\n",
        "    'regressor__n_estimators': n_estimators,\n",
        "    'regressor__max_depth': max_depth,\n",
        "    # 'regressor__learning_rate' : learning_rates,\n",
        "    # 'regressor__min_child_weight' : min_child_weight,\n",
        "    # 'regressor__booster' : booster,\n",
        "    # 'regressor__base_score' : base_score,\n",
        "    'regressor__gamma' : gammas\n",
        "    }\n",
        "\n",
        "###### RANDOM SEARCH ######\n",
        "# random_cv = RandomizedSearchCV(estimator=regr, param_distributions=param_grid, cv=5, \n",
        "#                                n_iter=50, scoring = 'accuracy',n_jobs = 4, \n",
        "#                                verbose = 5, return_train_score = True, random_state=42)\n",
        "\n",
        "# random_cv.fit(X_train, y_train)\n",
        "# print('best score {}'.format(random_cv.best_score_))\n",
        "\n",
        "###### GRID SEARCH ######\n",
        "grid_searchXG = GridSearchCV(\n",
        "    regr, param_grid, cv=5, verbose=5, n_jobs=4, \n",
        "    scoring='accuracy')\n",
        "grid_searchXG.fit(X_train, y_train)\n",
        "print('best score {}'.format(grid_searchXG.best_score_))"
      ],
      "execution_count": 17,
      "outputs": [
        {
          "output_type": "stream",
          "text": [
            "Fitting 5 folds for each of 27 candidates, totalling 135 fits\n"
          ],
          "name": "stdout"
        },
        {
          "output_type": "stream",
          "text": [
            "[Parallel(n_jobs=4)]: Using backend LokyBackend with 4 concurrent workers.\n",
            "[Parallel(n_jobs=4)]: Done  10 tasks      | elapsed:   26.5s\n",
            "[Parallel(n_jobs=4)]: Done  64 tasks      | elapsed:  4.6min\n",
            "[Parallel(n_jobs=4)]: Done 135 out of 135 | elapsed: 11.1min finished\n"
          ],
          "name": "stderr"
        },
        {
          "output_type": "stream",
          "text": [
            "best score 0.7120953462403687\n"
          ],
          "name": "stdout"
        }
      ]
    },
    {
      "cell_type": "code",
      "metadata": {
        "id": "lzYrGQZj85zQ",
        "colab_type": "code",
        "outputId": "541bb35d-5562-4410-8c41-85a93a972294",
        "colab": {
          "base_uri": "https://localhost:8080/",
          "height": 139
        }
      },
      "source": [
        "print('best score {}'.format(grid_searchXG.best_score_))\n",
        "print(\"Learning Rate: \", grid_searchXG.best_estimator_.get_params()[\"regressor__learning_rate\"])\n",
        "print(\"Max Depth: \", grid_searchXG.best_estimator_.get_params()[\"regressor__max_depth\"])\n",
        "print(\"Booster: \", grid_searchXG.best_estimator_.get_params()[\"regressor__booster\"])\n",
        "print(\"Min Child Weight: \", grid_searchXG.best_estimator_.get_params()[\"regressor__min_child_weight\"])\n",
        "print(\"Number of Trees: \", grid_searchXG.best_estimator_.get_params()[\"regressor__n_estimators\"])\n",
        "print(\"Gamma: \", grid_searchXG.best_estimator_.get_params()[\"regressor__gamma\"])"
      ],
      "execution_count": 18,
      "outputs": [
        {
          "output_type": "stream",
          "text": [
            "best score 0.7120953462403687\n",
            "Learning Rate:  0.1\n",
            "Max Depth:  10\n",
            "Booster:  gbtree\n",
            "Min Child Weight:  1\n",
            "Number of Trees:  200\n",
            "Gamma:  2.1\n"
          ],
          "name": "stdout"
        }
      ]
    },
    {
      "cell_type": "markdown",
      "metadata": {
        "id": "bvXYhx_y6ahq",
        "colab_type": "text"
      },
      "source": [
        "After each run I made several changes to the hyperparameters, here are some of the notable changes and observations:\n",
        "*   the first interesting result, was no matter the configuration the model always picked a relatively same number of trees.\n",
        "*   next I noticed the lack of impacked of changing the booster, with no effect.\n",
        "\n",
        "At this point I found that no changes I made even allowing for very deep trees would increase the accuracy so I revisited the data pre-processing, changing the general imputing to a attribute specific investigation. Additionally, I also adjusted for a large amount of skewness in the data with a cox-box. After this pre-processing switch I continued to tweek the hyperparameters: \n",
        "*   I found that a base model, with just a parameter grig of `n_estimators` imediatly provided a 71.6% accuracy, which is pretty awesome. \n",
        "*   Noticing that the `best_estimator` is pretty shallow with `max_depth = 3`, I included a variety of deeper trees, to raise the accuracy without making them too deep to overfit. Interestingly enough, the increase in `max_depth` caused a decrease in accuracy to 70.7%. I believe this is due to a lack in regularization, the model making bad splits.\n",
        "*   Adding regularization via `gamma`, did bring the accurcy back up to 71.2% \n",
        "\n"
      ]
    },
    {
      "cell_type": "code",
      "metadata": {
        "id": "PF6WrzdKmJ97",
        "colab_type": "code",
        "colab": {}
      },
      "source": [
        "# Prediction & generating the submission file\n",
        "y_predXG = grid_searchXG.predict(X_test)\n",
        "pd.DataFrame(\n",
        "    {'Id': testing_ids, 'price_rating':y_predXG}).to_csv('submission_xgb.csv', index=False)"
      ],
      "execution_count": 0,
      "outputs": []
    },
    {
      "cell_type": "markdown",
      "metadata": {
        "id": "yvkQ8oatXpF0",
        "colab_type": "text"
      },
      "source": [
        "#Model 2: SVM"
      ]
    },
    {
      "cell_type": "code",
      "metadata": {
        "id": "X6DG4gjqpvFX",
        "colab_type": "code",
        "outputId": "a144fe0d-4b38-4ed1-b4ef-f2764d995b5b",
        "colab": {
          "base_uri": "https://localhost:8080/",
          "height": 217
        }
      },
      "source": [
        "from sklearn.svm import SVC\n",
        "from sklearn import metrics\n",
        "\n",
        "c = [0.001, 0.01, 1]\n",
        "gammas = [0.01,0.1,1]\n",
        "\n",
        "param_grid = {\n",
        "    'C': c,\n",
        "    'gamma': gammas\n",
        "}\n",
        "\n",
        "grid_searchSVM = GridSearchCV(SVC(kernel = 'rbf'),param_grid, cv = 5)\n",
        "grid_searchSVM.fit(X_train,y_train)\n",
        "y_predSVM = grid_search.predict(X_test)"
      ],
      "execution_count": 20,
      "outputs": [
        {
          "output_type": "error",
          "ename": "NameError",
          "evalue": "ignored",
          "traceback": [
            "\u001b[0;31m---------------------------------------------------------------------------\u001b[0m",
            "\u001b[0;31mNameError\u001b[0m                                 Traceback (most recent call last)",
            "\u001b[0;32m<ipython-input-20-613ae4b6bb10>\u001b[0m in \u001b[0;36m<module>\u001b[0;34m()\u001b[0m\n\u001b[1;32m     11\u001b[0m \u001b[0;34m\u001b[0m\u001b[0m\n\u001b[1;32m     12\u001b[0m \u001b[0mgrid_searchSVM\u001b[0m \u001b[0;34m=\u001b[0m \u001b[0mGridSearchCV\u001b[0m\u001b[0;34m(\u001b[0m\u001b[0mSVC\u001b[0m\u001b[0;34m(\u001b[0m\u001b[0mkernel\u001b[0m \u001b[0;34m=\u001b[0m \u001b[0;34m'rbf'\u001b[0m\u001b[0;34m)\u001b[0m\u001b[0;34m,\u001b[0m\u001b[0mparam_grid\u001b[0m\u001b[0;34m,\u001b[0m \u001b[0mcv\u001b[0m \u001b[0;34m=\u001b[0m \u001b[0;36m5\u001b[0m\u001b[0;34m)\u001b[0m\u001b[0;34m\u001b[0m\u001b[0;34m\u001b[0m\u001b[0m\n\u001b[0;32m---> 13\u001b[0;31m \u001b[0mgrid_searchSMV\u001b[0m\u001b[0;34m.\u001b[0m\u001b[0mfit\u001b[0m\u001b[0;34m(\u001b[0m\u001b[0mX_train\u001b[0m\u001b[0;34m,\u001b[0m\u001b[0my_train\u001b[0m\u001b[0;34m)\u001b[0m\u001b[0;34m\u001b[0m\u001b[0;34m\u001b[0m\u001b[0m\n\u001b[0m\u001b[1;32m     14\u001b[0m \u001b[0my_predSVM\u001b[0m \u001b[0;34m=\u001b[0m \u001b[0mgrid_search\u001b[0m\u001b[0;34m.\u001b[0m\u001b[0mpredict\u001b[0m\u001b[0;34m(\u001b[0m\u001b[0mX_test\u001b[0m\u001b[0;34m)\u001b[0m\u001b[0;34m\u001b[0m\u001b[0;34m\u001b[0m\u001b[0m\n",
            "\u001b[0;31mNameError\u001b[0m: name 'grid_searchSMV' is not defined"
          ]
        }
      ]
    },
    {
      "cell_type": "code",
      "metadata": {
        "id": "OLTYb7SDANYI",
        "colab_type": "code",
        "colab": {}
      },
      "source": [
        "# Prediction & generating the submission file\n",
        "y_pred = grid_searchSVM.predict(X_test)\n",
        "pd.DataFrame(\n",
        "    {'Id': testing_ids, 'price_rating':y_predSVM}).to_csv('submission_svm.csv', index=False)"
      ],
      "execution_count": 0,
      "outputs": []
    },
    {
      "cell_type": "markdown",
      "metadata": {
        "id": "4yHZrSHK2JH9",
        "colab_type": "text"
      },
      "source": [
        "# Questions\n",
        "1.   Why should we limit the number of trials per day?\n",
        "   Simply put, the number of trails is limited so we cannot simply overfit to the specifics of the final testing dataset. If we had unlimited trials we could just build a model perfectly suited for the testing set.\n",
        "2.   Similar to the above answer this is so we cannot over learn the specific patterns of the final evaluation dataset and we can't cater our models to it furthermore overfitting. Furthmore, a better grade would be award to a more robust model, that can perform well on several different datasets.\n",
        "3.   I chose the XGBoost model for it's strength in flexibilty and customization as well as the simplicity of the model. At the begining I made it more flexible to increase the accuracy then after accuracy balanced out flexibility should decrease."
      ]
    },
    {
      "cell_type": "markdown",
      "metadata": {
        "id": "yageO7cdCpHz",
        "colab_type": "text"
      },
      "source": [
        "\n",
        "---\n",
        "\n",
        "Resources:\n",
        "*   Class Notes\n",
        "*   XGBoost Documentation. https://xgboost.readthedocs.io/en/latest/parameter.html\n",
        "*   Followed the format/thinking of the following Kaggle post. ❤️  https://www.kaggle.com/serigne/stacked-regressions-top-4-on-leaderboard\n",
        "*   Datasets and code provided by Prof. Steven Ding thanks\n"
      ]
    }
  ]
}